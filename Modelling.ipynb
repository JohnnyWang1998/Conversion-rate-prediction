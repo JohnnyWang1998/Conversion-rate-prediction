{
  "nbformat": 4,
  "nbformat_minor": 0,
  "metadata": {
    "colab": {
      "name": "Modelling.ipynb",
      "provenance": [],
      "collapsed_sections": [
        "WN1qFPAX0ISC"
      ],
      "toc_visible": true,
      "include_colab_link": true
    },
    "kernelspec": {
      "display_name": "Python 3",
      "name": "python3"
    },
    "language_info": {
      "name": "python"
    }
  },
  "cells": [
    {
      "cell_type": "markdown",
      "metadata": {
        "id": "view-in-github",
        "colab_type": "text"
      },
      "source": [
        "<a href=\"https://colab.research.google.com/github/JohnnyWang1998/Conversion-rate-prediction/blob/main/Modelling.ipynb\" target=\"_parent\"><img src=\"https://colab.research.google.com/assets/colab-badge.svg\" alt=\"Open In Colab\"/></a>"
      ]
    },
    {
      "cell_type": "code",
      "metadata": {
        "id": "prrlIbDaFega"
      },
      "source": [
        "import numpy as np\n",
        "import pandas as pd\n",
        "import seaborn as sn\n",
        "from typing import List\n",
        "from matplotlib import pyplot as plt\n",
        "import plotly.express as px"
      ],
      "execution_count": 1,
      "outputs": []
    },
    {
      "cell_type": "code",
      "metadata": {
        "id": "lMojAXbpdFxe"
      },
      "source": [
        "from sklearn.model_selection import TimeSeriesSplit\n",
        "from sklearn.model_selection import StratifiedKFold\n",
        "from sklearn.model_selection import train_test_split\n",
        "from sklearn.metrics import confusion_matrix,recall_score,precision_score,f1_score, ConfusionMatrixDisplay, log_loss\n",
        "from sklearn.naive_bayes import GaussianNB\n",
        "from sklearn.ensemble import RandomForestClassifier\n",
        "from sklearn.svm import LinearSVC\n",
        "from sklearn.metrics import roc_auc_score, roc_curve, auc\n",
        "from sklearn.linear_model import LogisticRegression\n",
        "from sklearn.feature_selection import SelectFromModel\n",
        "from imblearn.over_sampling import SMOTE\n",
        "from sklearn.impute import SimpleImputer"
      ],
      "execution_count": 2,
      "outputs": []
    },
    {
      "cell_type": "code",
      "source": [
        "import lightgbm as lgb\n",
        "import xgboost as xgb"
      ],
      "metadata": {
        "id": "_RGljwTYmsGp"
      },
      "execution_count": 3,
      "outputs": []
    },
    {
      "cell_type": "code",
      "metadata": {
        "id": "azZ1y5vAmdLp"
      },
      "source": [
        "from tqdm import tqdm\n",
        "import warnings\n",
        "warnings.filterwarnings('ignore')"
      ],
      "execution_count": 4,
      "outputs": []
    },
    {
      "cell_type": "code",
      "metadata": {
        "id": "EY9h8Hn2dxy-"
      },
      "source": [
        "from numpy import mean\n",
        "from numpy import std\n",
        "from numpy import dstack\n",
        "from pandas import read_csv\n",
        "from matplotlib import pyplot\n",
        "import tensorflow as tf\n",
        "from keras.models import Sequential\n",
        "from keras.layers import Flatten\n",
        "from keras.layers import Activation, Dense, Dropout\n",
        "from keras.layers.convolutional import Conv1D\n",
        "from keras.layers.convolutional import MaxPooling1D\n",
        "from keras import regularizers\n",
        "from tensorflow.keras.optimizers import SGD\n",
        "from sklearn.preprocessing import StandardScaler\n",
        "from sklearn.preprocessing import MinMaxScaler"
      ],
      "execution_count": 5,
      "outputs": []
    },
    {
      "cell_type": "code",
      "metadata": {
        "id": "_qtgJwJbOAuX",
        "colab": {
          "base_uri": "https://localhost:8080/"
        },
        "outputId": "2281c646-9f22-4834-a36b-2d87178ea809"
      },
      "source": [
        "from google.colab import drive\n",
        "drive.mount('/content/drive')\n",
        "data = pd.read_csv('/content/drive/MyDrive/train.csv')"
      ],
      "execution_count": 6,
      "outputs": [
        {
          "output_type": "stream",
          "name": "stdout",
          "text": [
            "Mounted at /content/drive\n"
          ]
        }
      ]
    },
    {
      "cell_type": "markdown",
      "metadata": {
        "id": "OHHjZ69O0Jb1"
      },
      "source": [
        "# Modeling"
      ]
    },
    {
      "cell_type": "markdown",
      "metadata": {
        "id": "KefT6AbN12P2"
      },
      "source": [
        "## Data Preprocessing"
      ]
    },
    {
      "cell_type": "code",
      "metadata": {
        "id": "WEdWvTQqjGl1"
      },
      "source": [
        "class DataModeler:\n",
        "    def __init__(self):\n",
        "        pass\n",
        "\n",
        "    def _parametrized(dec):\n",
        "        def layer(*args, **kwargs):\n",
        "            def repl(f):\n",
        "                return dec(f, *args, **kwargs)\n",
        "            return repl\n",
        "        return layer\n",
        "\n",
        "    @staticmethod\n",
        "    @_parametrized\n",
        "    def logger(f, job):\n",
        "        def aux(self, *xs, **kws):\n",
        "            print(job + \"...\", end='\\t')\n",
        "            res = f(self, *xs, **kws) \n",
        "            print(\"Done\")\n",
        "            return res\n",
        "        return aux"
      ],
      "execution_count": 7,
      "outputs": []
    },
    {
      "cell_type": "code",
      "metadata": {
        "id": "bEtRE-lF9ndM"
      },
      "source": [
        "class DataPreprocessor(DataModeler):\n",
        "    \"\"\"Class to preprocess the data\"\"\"\n",
        "    \n",
        "    def __init__(self):\n",
        "        super(DataPreprocessor, self).__init__()\n",
        "\n",
        "    @DataModeler.logger(\"Filling missing value\")\n",
        "    def _fill_missing_value(self, df:pd.DataFrame) -> pd.DataFrame:\n",
        "        \"\"\"Fill missing values in input data\"\"\"\n",
        "        res = df.copy()\n",
        "        # na imputation\n",
        "        numeric_cols = res.select_dtypes(include= np.number).columns\n",
        "        imputer = SimpleImputer(missing_values=np.nan, strategy='mean')\n",
        "        imputer = imputer.fit(res[numeric_cols].values)\n",
        "        \n",
        "        res[numeric_cols] = imputer.transform(res[numeric_cols].values)\n",
        "        return res\n",
        "    \n",
        "    @DataModeler.logger(\"Replacing outliers\")\n",
        "    def _replace_outliers(self, df:pd.DataFrame) -> pd.DataFrame:\n",
        "        res = df.copy()\n",
        "        return res\n",
        "\n",
        "    @DataModeler.logger(\"Transforming feature type\")\n",
        "    def _trans_feat_type(self, _df:pd.DataFrame) -> List[pd.DataFrame]:\n",
        "        \"\"\"Transform some features to the correct type\"\"\"\n",
        "\n",
        "        # transfer wrranty to binary\n",
        "        df = _df.copy()\n",
        "        pattern_list=[]\n",
        "        for i in df['warranty']:\n",
        "          if(pd.isnull(i)):\n",
        "            pattern_list.append(False)\n",
        "          elif(any(char.isdigit() for char in i)):\n",
        "            pattern=True\n",
        "            pattern_list.append(pattern)\n",
        "          else:\n",
        "            pattern=False\n",
        "            pattern_list.append(pattern)\n",
        "        df['warranty']=pattern_list\n",
        "\n",
        "        # transfer main picture to binary\n",
        "        df['main_picture']=df['main_picture'].notnull()\n",
        "\n",
        "        return df\n",
        "\n",
        "\n",
        "    @DataModeler.logger(\"Drop useless columns data\")\n",
        "    def _drop_columns(self, _df:pd.DataFrame) -> pd.DataFrame:\n",
        "        \"\"\" Feature selection\"\"\"\n",
        "\n",
        "        df = _df.copy()\n",
        "        cols_drop = ['accepts_mercadopago','category_id','site_id',\n",
        "                     'domain_id','item_id','print_server_timestamp',\n",
        "                     'date','deal_print_id','etl_version','user_id',\n",
        "                     'full_name','listing_type_id','platform','product_id',\n",
        "                     'title','benefit','boosted','is_pdp', 'uid']\n",
        "        df = df.drop(cols_drop, axis=1)\n",
        "        return df\n",
        "    \n",
        "    def preprocess(self, _df:pd.DataFrame) -> pd.DataFrame:\n",
        "        \"\"\"Preprocess the data\"\"\"\n",
        "        df = _df.copy()\n",
        "\n",
        "        # drop useless and invalid columns\n",
        "        df = self._drop_columns(df)\n",
        "\n",
        "        # filling the na values\n",
        "        df = self._fill_missing_value(df)\n",
        "\n",
        "        # transfer feature types\n",
        "        df = self._trans_feat_type(df)\n",
        "\n",
        "        return df"
      ],
      "execution_count": 8,
      "outputs": []
    },
    {
      "cell_type": "code",
      "metadata": {
        "colab": {
          "base_uri": "https://localhost:8080/"
        },
        "id": "yedj-bZHJ_cF",
        "outputId": "b425cc25-54d0-45f5-d7b3-3bd5bbc3020e"
      },
      "source": [
        "data_preprocessor = DataPreprocessor()\n",
        "df = data_preprocessor.preprocess(data)"
      ],
      "execution_count": 9,
      "outputs": [
        {
          "output_type": "stream",
          "name": "stdout",
          "text": [
            "Drop useless columns data...\tDone\n",
            "Filling missing value...\tDone\n",
            "Transforming feature type...\tDone\n"
          ]
        }
      ]
    },
    {
      "cell_type": "markdown",
      "metadata": {
        "id": "Zw67-XId140N"
      },
      "source": [
        "## Feature Engineering"
      ]
    },
    {
      "cell_type": "code",
      "metadata": {
        "id": "o_Vh9IITKZtj"
      },
      "source": [
        "class FeatureEngineer(DataModeler):\n",
        "    \"\"\"Class to do the feature engineering\"\"\"\n",
        "    \n",
        "    def __init__(self):\n",
        "        super(FeatureEngineer, self).__init__()\n",
        "    \n",
        "    @DataModeler.logger(\"One hot encoding\")\n",
        "    def _one_hot_encoding(self, _df:pd.DataFrame) -> pd.DataFrame:\n",
        "        \"\"\"One hot encoding\"\"\"\n",
        "\n",
        "        df = _df.copy()\n",
        "\n",
        "        # tags\n",
        "        unique_tags_list=[]\n",
        "        final_list=[]\n",
        "        for i in df['tags']:\n",
        "          unique_tags_list.append(i)\n",
        "        for j in range(0,len(unique_tags_list)):\n",
        "          unique_tags_list[j]=str(unique_tags_list[j][1:-1]).split(\", \")\n",
        "          final_list.append(unique_tags_list[j])\n",
        "        flat_list = [item for sublist in final_list for item in sublist]\n",
        "        flat_list=set(flat_list)\n",
        "        for i in flat_list:\n",
        "          new_col = []\n",
        "          for j in df['tags']:\n",
        "            if i in j:\n",
        "              new_col.append(1)\n",
        "            else:\n",
        "              new_col.append(0)\n",
        "          df[i] = new_col\n",
        "\n",
        "        # logistic type\n",
        "        value_list=[]\n",
        "        for i in df['logistic_type']:\n",
        "          if(i=='cross_docking'):\n",
        "            pattern=1\n",
        "            value_list.append(pattern)\n",
        "          else:\n",
        "            pattern=0\n",
        "            value_list.append(pattern)\n",
        "        df['cross_docking']=value_list\n",
        "        val_list=[]\n",
        "        for i in df['logistic_type']:\n",
        "          if(i=='drop_off'):\n",
        "            pattern=1\n",
        "            val_list.append(pattern)\n",
        "          else:\n",
        "            pattern=0\n",
        "            val_list.append(pattern)\n",
        "        df['drop_off']=val_list\n",
        "\n",
        "        return df\n",
        "\n",
        "    @DataModeler.logger(\"Generating date features\")\n",
        "    def _generate_feats(self, _df:pd.DataFrame) -> pd.DataFrame:\n",
        "        \"\"\"Generate new features\"\"\"\n",
        "        df = _df.copy()\n",
        "        # discount column\n",
        "        discount = (df[\"original_price\"]-df[\"price\"])/df[\"original_price\"]\n",
        "        df['discount'] = discount\n",
        "\n",
        "        return df\n",
        "\n",
        "    def engineering(self, _df:pd.DataFrame) -> pd.DataFrame:\n",
        "        \"\"\"Feature engineering process\"\"\"\n",
        "        df = _df.copy()\n",
        "        df = self._one_hot_encoding(df)\n",
        "        df = self._generate_feats(df)\n",
        "        # convert to float\n",
        "        df *= 1\n",
        "        return df\n",
        "        "
      ],
      "execution_count": 10,
      "outputs": []
    },
    {
      "cell_type": "code",
      "metadata": {
        "colab": {
          "base_uri": "https://localhost:8080/"
        },
        "id": "SPkzwulXNl0w",
        "outputId": "95b639fe-57e3-4912-d565-0ef1edd39a52"
      },
      "source": [
        "feat_engineer = FeatureEngineer()\n",
        "df = feat_engineer.engineering(df)"
      ],
      "execution_count": 11,
      "outputs": [
        {
          "output_type": "stream",
          "name": "stdout",
          "text": [
            "One hot encoding...\tDone\n",
            "Generating date features...\tDone\n"
          ]
        }
      ]
    },
    {
      "cell_type": "markdown",
      "source": [
        "## Utils"
      ],
      "metadata": {
        "id": "8Fme0tEfhKjy"
      }
    },
    {
      "cell_type": "code",
      "source": [
        "def to_binary(y_test, y, threshold=None):\n",
        "    if(threshold == None):\n",
        "        thre, auc = best_threshold(y_test, y)\n",
        "    else:\n",
        "        thre = threshold\n",
        "    x = y.copy()\n",
        "    x[x>thre] = 1\n",
        "    x[x<=thre] = 0\n",
        "    return x\n",
        "\n",
        "def best_threshold(y_test, pred):\n",
        "    best_thre = -1\n",
        "    best_auc = -1\n",
        "    for i in tqdm(np.arange(0,0.5,0.001), \"Finding the best threshold\"):\n",
        "        temp_loop = pred.copy()\n",
        "        temp_loop[temp_loop>i] = 1\n",
        "        temp_loop[temp_loop<=i] = 0\n",
        "        current = f1_score(y_test, temp_loop)\n",
        "        if(current > best_auc):\n",
        "            best_auc = current\n",
        "            best_thre = i\n",
        "    return best_thre, best_auc"
      ],
      "metadata": {
        "id": "05LpavUMuBzb"
      },
      "execution_count": 12,
      "outputs": []
    },
    {
      "cell_type": "code",
      "source": [
        "def performance(y_test, y_pred):\n",
        "    auc = roc_auc_score(y_test, y_pred)\n",
        "    recall = recall_score(y_test, to_binary(y_test, y_pred))\n",
        "    print(\"\\nAUC: {}\".format(auc))\n",
        "    print(\"Recall: {}\".format(recall))"
      ],
      "metadata": {
        "id": "dWPiJ4C1EQNZ"
      },
      "execution_count": 13,
      "outputs": []
    },
    {
      "cell_type": "markdown",
      "metadata": {
        "id": "9biXq_3Y2Am3"
      },
      "source": [
        "## Model Building"
      ]
    },
    {
      "cell_type": "markdown",
      "source": [
        "### Data split"
      ],
      "metadata": {
        "id": "YRps9KNGV2NE"
      }
    },
    {
      "cell_type": "code",
      "metadata": {
        "id": "JrG-NSMzO_2T"
      },
      "source": [
        "df = df.reset_index(drop=True)\n",
        "target = 'conversion'\n",
        "drop_cols = ['tags','logistic_type','conversion']\n",
        "features = [x for x in df.columns if x not in drop_cols]\n",
        "df_train, df_test = train_test_split(df, test_size=0.20, random_state=42,stratify=df[target])\n",
        "df_train = df_train.reset_index(drop=True)\n",
        "df_test = df_test.reset_index(drop=True)"
      ],
      "execution_count": 14,
      "outputs": []
    },
    {
      "cell_type": "code",
      "metadata": {
        "id": "Nrj84NFhNqSJ"
      },
      "source": [
        "X_train = df_train[features]\n",
        "y_train = df_train[target]\n",
        "X_test = df_test[features]\n",
        "y_test = df_test[target]\n",
        "smote=SMOTE().fit(X_train,y_train)\n",
        "df_X_sampled,df_y_sampled = smote.fit_resample(X_train,y_train)\n",
        "df_train_sampled = pd.concat([df_X_sampled, df_y_sampled], axis=1)"
      ],
      "execution_count": 15,
      "outputs": []
    },
    {
      "cell_type": "code",
      "metadata": {
        "id": "wpFoQ-7qNufd"
      },
      "source": [
        "class Learner(DataModeler):\n",
        "    def __init__(self):\n",
        "        super(Learner, self).__init__()\n",
        "\n",
        "        self.model_dict = {\n",
        "            'LR':    {'class':LogisticRegression,      'model':[]},\n",
        "            'RF':    {'class':RandomForestClassifier, 'model':[]},\n",
        "            'NB':   {'class':GaussianNB,            'model':[]},\n",
        "            'LSVC':   {'class':LinearSVC,            'model':[]},\n",
        "            'LGB':   {'class':None,                  'model':[]},\n",
        "            'XGB':   {'class':None,                  'model':[]}\n",
        "        }\n",
        "    \n",
        "\n",
        "    def train(self, df:pd.DataFrame, target:str, feats:List[str], nfold:int,\n",
        "              model_name:str, model_param:dict, metric_func, return_pred_col=False):\n",
        "        \"\"\"\n",
        "        Model training\n",
        "        @param df: training data\n",
        "        @param target: predicting target column name\n",
        "        @param nfold: cross validation fold number\n",
        "        @param feats: features to be used for training model\n",
        "        @param model_name: model name, must be one of keys in model_dict\n",
        "        @param model_param: model parameter dict\n",
        "        @param metric_func: metric function\n",
        "        @param return_pred_col: need to return predicted col or not\n",
        "        \"\"\"\n",
        "        metric_l = []\n",
        "        last_pred = np.array([])\n",
        "        pred_col = np.array([])\n",
        "        self.model_dict[model_name]['model'] = []\n",
        "\n",
        "        for (trn_idx, val_idx) in tqdm(StratifiedKFold(nfold, shuffle=True, random_state=2021)\n",
        "        .split(df[feats], df[target]), total=nfold, desc=\"Training\", disable=False):\n",
        "            train_x = df.loc[trn_idx, feats]\n",
        "            train_y = df.loc[trn_idx, target]\n",
        "            valid_x = df.loc[val_idx, feats]\n",
        "            valid_y = df.loc[val_idx, target]\n",
        "            if(model_name == 'LGB'):\n",
        "                model, valid_pred = self._lgb_train(train_x, train_y, valid_x, valid_y, model_param)\n",
        "            elif(model_name == 'XGB'):\n",
        "                model, valid_pred = self._xgb_train(train_x, train_y, valid_x, valid_y, model_param)\n",
        "            elif(model_name == \"LSVC\"):\n",
        "                model = self.model_dict[model_name]['class'](**model_param).fit(train_x, train_y)\n",
        "                valid_pred = model.predict(valid_x)\n",
        "            else:\n",
        "                model = self.model_dict[model_name]['class'](**model_param).fit(train_x, train_y)\n",
        "                valid_pred = model.predict_proba(valid_x)[:,1]\n",
        "            # valid prediction as a feature\n",
        "            metric = metric_func(valid_y, valid_pred)\n",
        "            metric_l.append(metric)\n",
        "            if(last_pred.shape[0] != 0):\n",
        "                pred_col = np.vstack((pred_col, valid_pred.reshape((-1,1))))\n",
        "            else:\n",
        "                last_pred = valid_pred.copy()\n",
        "                pred_col = valid_pred.reshape(-1,1).copy()\n",
        "            self.model_dict[model_name]['model'].append(model)\n",
        "        print(f\"{model_name} End of training, avg metric: {np.mean(metric_l)}\")\n",
        "        if return_pred_col== False:\n",
        "            return np.mean(metric_l)\n",
        "        else:\n",
        "            return np.mean(metric_l), pred_col\n",
        "\n",
        "\n",
        "    def _lgb_train(self, train_x:pd.DataFrame, train_y:pd.DataFrame,\n",
        "                   valid_x:pd.DataFrame, valid_y:pd.DataFrame, params:dict):\n",
        "        \"\"\"\n",
        "        LGB model training\n",
        "        @param train_x: training data\n",
        "        @param train_y: training target\n",
        "        @param valid_x: validating data\n",
        "        @param valid_y: validating target\n",
        "        @param params: LGB model parameters\n",
        "        \"\"\"\n",
        "        model = lgb.LGBMClassifier(\n",
        "            class_weight=\"balanced\",\n",
        "            boosting_type='gbdt',\n",
        "            num_leaves=params['num_leaves'],\n",
        "            max_depth=params['max_depth'],\n",
        "            learning_rate=params['learning_rate'],\n",
        "            n_estimators=params['n_estimators']\n",
        "        )\n",
        "        model.fit(\n",
        "            train_x, \n",
        "            train_y,\n",
        "            verbose = 50, \n",
        "            eval_metric = \"auc\",\n",
        "            eval_set = [(train_x, train_y), (valid_x, valid_y)], \n",
        "            early_stopping_rounds = 20\n",
        "            )\n",
        "        valid_pred = model.predict_proba(valid_x, num_iteration=model.best_iteration_)\n",
        "        return model, valid_pred[:,1]\n",
        "\n",
        "    def _xgb_train(self, train_x:pd.DataFrame, train_y:pd.DataFrame,\n",
        "                   valid_x:pd.DataFrame, valid_y:pd.DataFrame, params:dict):\n",
        "        \"\"\"\n",
        "        XGB model training\n",
        "        @param train_x: training data\n",
        "        @param train_y: training target\n",
        "        @param valid_x: validating data\n",
        "        @param valid_y: validating target\n",
        "        @param params: LGB model parameters\n",
        "        \"\"\"\n",
        "        model = xgb.XGBClassifier(\n",
        "            objective=\"binary:logistic\", \n",
        "            use_label_encoder=False, \n",
        "            **params\n",
        "        )\n",
        "        model.fit(\n",
        "            train_x, \n",
        "            train_y,\n",
        "            early_stopping_rounds=50,\n",
        "            verbose = 50, \n",
        "            eval_metric = \"auc\",\n",
        "            eval_set = [(train_x, train_y), (valid_x, valid_y)]\n",
        "            )\n",
        "        valid_pred = model.predict_proba(valid_x, ntree_limit=model.best_ntree_limit)\n",
        "        return model, valid_pred[:,1]\n",
        "    \n",
        "    def _predict(self, df:pd.DataFrame, feats:List[str], model_name:str) -> np.array:\n",
        "        \"\"\"\n",
        "        Use single model to predict\n",
        "        @param df: testset\n",
        "        @param feats: features used for training mdoel\n",
        "        @param model_name: model name, must be one of keys in model_dict and has been trained\n",
        "        return: prediction\n",
        "        \"\"\"\n",
        "        pred_l = []\n",
        "\n",
        "        # use all the models that has been generated in the cross validation part\n",
        "        for model in self.model_dict[model_name]['model']:\n",
        "            if model_name == 'LGB':\n",
        "                pred_l.append(model.predict_proba(df[feats].values, num_iteration=model.best_iteration_)[:,1].tolist())\n",
        "            elif model_name == 'XGB':\n",
        "                pred_l.append(model.predict_proba(df[feats], ntree_limit=model.best_ntree_limit)[:,1].tolist())\n",
        "            elif model_name == 'LSVC':\n",
        "                pred_l.append(model.predict(df[feats].values).tolist())\n",
        "            else:\n",
        "                pred_l.append(model.predict_proba(df[feats].values)[:,1].tolist())\n",
        "\n",
        "        pred = np.mean(np.array(pred_l), axis=0)\n",
        "        return pred\n",
        "    \n",
        "    def predict(self, df:pd.DataFrame, feats:List[str], models=None) -> np.array:\n",
        "        \"\"\"\n",
        "        Predicting the data by given models\n",
        "        @param df: testset\n",
        "        @param feats: features used for training mdoel\n",
        "        @param models: list of model names to predict\n",
        "        return: prediction\n",
        "        \"\"\"\n",
        "        pred_l = []\n",
        "        for model in tqdm(models, \"Predicting\"):\n",
        "            tmp = self._predict(df, feats, model)\n",
        "            pred_l.append(tmp.tolist())\n",
        "        \n",
        "        pred = np.mean(np.array(pred_l), axis=0)\n",
        "        return pred"
      ],
      "execution_count": 16,
      "outputs": []
    },
    {
      "cell_type": "code",
      "metadata": {
        "id": "flqQYdgXcRud"
      },
      "source": [
        "learner = Learner()"
      ],
      "execution_count": null,
      "outputs": []
    },
    {
      "cell_type": "markdown",
      "source": [
        "### Classical Models"
      ],
      "metadata": {
        "id": "Sr4zrNnUjTiH"
      }
    },
    {
      "cell_type": "markdown",
      "source": [
        "#### Logistic Regression"
      ],
      "metadata": {
        "id": "we4FnFIEjcoL"
      }
    },
    {
      "cell_type": "code",
      "metadata": {
        "colab": {
          "base_uri": "https://localhost:8080/"
        },
        "id": "wY1lv0cXcToU",
        "outputId": "a539903f-e77e-4047-de5f-861cde7c5722"
      },
      "source": [
        "param_lr = {\n",
        "    'penalty':'l1', \n",
        "    'solver':'liblinear', \n",
        "    'class_weight':\"balanced\"\n",
        "}\n",
        "learner.train(df_train_sampled, target, features, 5, 'LR', param_lr, roc_auc_score)"
      ],
      "execution_count": null,
      "outputs": [
        {
          "output_type": "stream",
          "name": "stderr",
          "text": [
            "Training: 100%|██████████| 5/5 [06:36<00:00, 79.32s/it]"
          ]
        },
        {
          "output_type": "stream",
          "name": "stdout",
          "text": [
            "LR End of training, avg metric: 0.7704505656990286\n"
          ]
        },
        {
          "output_type": "stream",
          "name": "stderr",
          "text": [
            "\n"
          ]
        },
        {
          "output_type": "execute_result",
          "data": {
            "text/plain": [
              "0.7704505656990286"
            ]
          },
          "metadata": {},
          "execution_count": 96
        }
      ]
    },
    {
      "cell_type": "code",
      "source": [
        "pred_lr = learner.predict(df_test, features, ['LR'])"
      ],
      "metadata": {
        "colab": {
          "base_uri": "https://localhost:8080/"
        },
        "id": "cXchYAAsc5iN",
        "outputId": "4efa645b-e3f8-4e7f-a16f-d88489ddcadf"
      },
      "execution_count": null,
      "outputs": [
        {
          "output_type": "stream",
          "name": "stderr",
          "text": [
            "Predicting: 100%|██████████| 1/1 [00:00<00:00,  7.92it/s]\n"
          ]
        }
      ]
    },
    {
      "cell_type": "code",
      "source": [
        "performance(y_test, pred_lr)"
      ],
      "metadata": {
        "colab": {
          "base_uri": "https://localhost:8080/"
        },
        "id": "JvZ5Wxj4KqzK",
        "outputId": "9590d3be-425c-4005-a20a-58160552bff3"
      },
      "execution_count": null,
      "outputs": [
        {
          "output_type": "stream",
          "name": "stderr",
          "text": [
            "Finding the best threshold: 100%|██████████| 500/500 [00:10<00:00, 49.22it/s]"
          ]
        },
        {
          "output_type": "stream",
          "name": "stdout",
          "text": [
            "\n",
            "AUC: 0.68848676644718\n",
            "Recall: 0.6324275903254702\n"
          ]
        },
        {
          "output_type": "stream",
          "name": "stderr",
          "text": [
            "\n"
          ]
        }
      ]
    },
    {
      "cell_type": "markdown",
      "source": [
        "#### Naive Bayes"
      ],
      "metadata": {
        "id": "OMpW-SCrjoJK"
      }
    },
    {
      "cell_type": "code",
      "source": [
        "learner.train(df_train_sampled, target, features, 5, 'NB', {}, roc_auc_score)"
      ],
      "metadata": {
        "colab": {
          "base_uri": "https://localhost:8080/"
        },
        "id": "KLmwTUwVbkEe",
        "outputId": "5c97abb7-5f42-422d-c13e-f1f6159f1edf"
      },
      "execution_count": null,
      "outputs": [
        {
          "output_type": "stream",
          "name": "stderr",
          "text": [
            "Training: 100%|██████████| 5/5 [00:02<00:00,  2.46it/s]"
          ]
        },
        {
          "output_type": "stream",
          "name": "stdout",
          "text": [
            "NB End of training, avg metric: 0.6801568048943143\n"
          ]
        },
        {
          "output_type": "stream",
          "name": "stderr",
          "text": [
            "\n"
          ]
        },
        {
          "output_type": "execute_result",
          "data": {
            "text/plain": [
              "0.6801568048943143"
            ]
          },
          "metadata": {},
          "execution_count": 99
        }
      ]
    },
    {
      "cell_type": "code",
      "source": [
        "pred_nb = learner.predict(df_test, features, ['NB'])"
      ],
      "metadata": {
        "colab": {
          "base_uri": "https://localhost:8080/"
        },
        "id": "YsyEGHh7c6-_",
        "outputId": "340fe830-f078-4c93-c9bd-abfcf4ce959a"
      },
      "execution_count": null,
      "outputs": [
        {
          "output_type": "stream",
          "name": "stderr",
          "text": [
            "Predicting: 100%|██████████| 1/1 [00:00<00:00,  4.57it/s]\n"
          ]
        }
      ]
    },
    {
      "cell_type": "code",
      "source": [
        "performance(y_test, pred_nb)"
      ],
      "metadata": {
        "colab": {
          "base_uri": "https://localhost:8080/"
        },
        "id": "gL6Ufm_ufBgo",
        "outputId": "5c56b1ee-5d37-448d-971f-fb25f8143560"
      },
      "execution_count": null,
      "outputs": [
        {
          "output_type": "stream",
          "name": "stderr",
          "text": [
            "Finding the best threshold: 100%|██████████| 500/500 [00:10<00:00, 48.69it/s]"
          ]
        },
        {
          "output_type": "stream",
          "name": "stdout",
          "text": [
            "\n",
            "AUC: 0.6638532072045195\n",
            "Recall: 0.6115258286055539\n"
          ]
        },
        {
          "output_type": "stream",
          "name": "stderr",
          "text": [
            "\n"
          ]
        }
      ]
    },
    {
      "cell_type": "markdown",
      "source": [
        "#### Random Forest"
      ],
      "metadata": {
        "id": "7Sl61EiEjoVY"
      }
    },
    {
      "cell_type": "code",
      "source": [
        "param_rf = {\n",
        "    'n_estimators':200, \n",
        "    'max_depth':5, \n",
        "    'class_weight':\"balanced\"\n",
        "}\n",
        "learner.train(df_train, target, features, 5, 'RF', param_rf, roc_auc_score)"
      ],
      "metadata": {
        "colab": {
          "base_uri": "https://localhost:8080/"
        },
        "id": "76vrqj7wbn_-",
        "outputId": "6fe4bd1b-b2f1-4ec0-d07e-12e44db7e90a"
      },
      "execution_count": null,
      "outputs": [
        {
          "output_type": "stream",
          "name": "stderr",
          "text": [
            "Training: 100%|██████████| 5/5 [02:41<00:00, 32.26s/it]"
          ]
        },
        {
          "output_type": "stream",
          "name": "stdout",
          "text": [
            "RF End of training, avg metric: 0.7402564993074955\n"
          ]
        },
        {
          "output_type": "stream",
          "name": "stderr",
          "text": [
            "\n"
          ]
        },
        {
          "output_type": "execute_result",
          "data": {
            "text/plain": [
              "0.7402564993074955"
            ]
          },
          "metadata": {},
          "execution_count": 102
        }
      ]
    },
    {
      "cell_type": "code",
      "source": [
        "pred_rf = learner.predict(df_test, features, ['RF'])"
      ],
      "metadata": {
        "colab": {
          "base_uri": "https://localhost:8080/"
        },
        "id": "TbaFwiy2dCLQ",
        "outputId": "620293a2-694e-4ab6-ae2c-0a65c443c804"
      },
      "execution_count": null,
      "outputs": [
        {
          "output_type": "stream",
          "name": "stderr",
          "text": [
            "Predicting: 100%|██████████| 1/1 [00:03<00:00,  3.15s/it]\n"
          ]
        }
      ]
    },
    {
      "cell_type": "code",
      "source": [
        "performance(y_test, pred_rf)"
      ],
      "metadata": {
        "colab": {
          "base_uri": "https://localhost:8080/"
        },
        "id": "KDa0juuufIKE",
        "outputId": "c8cbc760-3e41-47be-8445-0d95bf1830fd"
      },
      "execution_count": null,
      "outputs": [
        {
          "output_type": "stream",
          "name": "stderr",
          "text": [
            "Finding the best threshold: 100%|██████████| 500/500 [00:09<00:00, 51.02it/s]"
          ]
        },
        {
          "output_type": "stream",
          "name": "stdout",
          "text": [
            "\n",
            "AUC: 0.7378324435815005\n",
            "Recall: 0.7058823529411765\n"
          ]
        },
        {
          "output_type": "stream",
          "name": "stderr",
          "text": [
            "\n"
          ]
        }
      ]
    },
    {
      "cell_type": "markdown",
      "source": [
        "#### Linear SVC"
      ],
      "metadata": {
        "id": "K7bWSmTRjocf"
      }
    },
    {
      "cell_type": "code",
      "source": [
        "param_lsvm = {\n",
        "    'penalty':'l1',\n",
        "    'dual':False, \n",
        "    'class_weight':'balanced'\n",
        "}\n",
        "learner.train(df_train, target, features, 5, 'LSVC', param_lsvm, roc_auc_score)"
      ],
      "metadata": {
        "colab": {
          "base_uri": "https://localhost:8080/"
        },
        "id": "IA1O2tFYbrly",
        "outputId": "379a8df9-c2e8-4683-9953-888ae61c1444"
      },
      "execution_count": null,
      "outputs": [
        {
          "output_type": "stream",
          "name": "stderr",
          "text": [
            "Training: 100%|██████████| 5/5 [01:43<00:00, 20.70s/it]"
          ]
        },
        {
          "output_type": "stream",
          "name": "stdout",
          "text": [
            "LSVC End of training, avg metric: 0.6551991584069483\n"
          ]
        },
        {
          "output_type": "stream",
          "name": "stderr",
          "text": [
            "\n"
          ]
        },
        {
          "output_type": "execute_result",
          "data": {
            "text/plain": [
              "0.6551991584069483"
            ]
          },
          "metadata": {},
          "execution_count": 105
        }
      ]
    },
    {
      "cell_type": "code",
      "source": [
        "pred_lsvm = learner.predict(df_test, features, ['LSVC'])"
      ],
      "metadata": {
        "colab": {
          "base_uri": "https://localhost:8080/"
        },
        "id": "PP-G97S_c8aF",
        "outputId": "1f66cdfc-c6e9-4037-ceda-e9fbc86183e9"
      },
      "execution_count": null,
      "outputs": [
        {
          "output_type": "stream",
          "name": "stderr",
          "text": [
            "Predicting: 100%|██████████| 1/1 [00:00<00:00,  8.40it/s]\n"
          ]
        }
      ]
    },
    {
      "cell_type": "code",
      "source": [
        "performance(y_test, pred_lsvm)"
      ],
      "metadata": {
        "colab": {
          "base_uri": "https://localhost:8080/"
        },
        "id": "6768_l2SmjCV",
        "outputId": "3f888ccf-c0b0-460f-b19b-536ebb443e6b"
      },
      "execution_count": null,
      "outputs": [
        {
          "output_type": "stream",
          "name": "stderr",
          "text": [
            "Finding the best threshold: 100%|██████████| 500/500 [00:10<00:00, 46.71it/s]"
          ]
        },
        {
          "output_type": "stream",
          "name": "stdout",
          "text": [
            "\n",
            "AUC: 0.6613104119697293\n",
            "Recall: 0.6434756643774261\n"
          ]
        },
        {
          "output_type": "stream",
          "name": "stderr",
          "text": [
            "\n"
          ]
        }
      ]
    },
    {
      "cell_type": "markdown",
      "source": [
        "### Boosters"
      ],
      "metadata": {
        "id": "E4V0kqaYjOFt"
      }
    },
    {
      "cell_type": "markdown",
      "source": [
        "#### XGB"
      ],
      "metadata": {
        "id": "p3CBWaXpm1PR"
      }
    },
    {
      "cell_type": "code",
      "source": [
        "param_xgb={\n",
        "    'n_estimators':1000,\n",
        "    'scale_pos_weight':10, \n",
        "    'subsample' : 0.8,\n",
        "    'colsample_bytree': 0.8,\n",
        "    'learning_rate': 0.09,\n",
        "    'max_depth': 5\n",
        "}\n",
        "learner.train(df_train, target, features, 5, 'XGB', param_xgb, roc_auc_score)"
      ],
      "metadata": {
        "colab": {
          "base_uri": "https://localhost:8080/"
        },
        "id": "PKvEWC3lUWdO",
        "outputId": "79659b67-b95f-4167-eb67-1a7c84427365"
      },
      "execution_count": null,
      "outputs": [
        {
          "metadata": {
            "tags": null
          },
          "name": "stderr",
          "output_type": "stream",
          "text": [
            "\rTraining:   0%|          | 0/5 [00:00<?, ?it/s]"
          ]
        },
        {
          "metadata": {
            "tags": null
          },
          "name": "stdout",
          "output_type": "stream",
          "text": [
            "[0]\tvalidation_0-auc:0.727699\tvalidation_1-auc:0.721868\n",
            "Multiple eval metrics have been passed: 'validation_1-auc' will be used for early stopping.\n",
            "\n",
            "Will train until validation_1-auc hasn't improved in 50 rounds.\n",
            "[50]\tvalidation_0-auc:0.784293\tvalidation_1-auc:0.758904\n",
            "[100]\tvalidation_0-auc:0.804503\tvalidation_1-auc:0.764695\n",
            "[150]\tvalidation_0-auc:0.818812\tvalidation_1-auc:0.768554\n",
            "[200]\tvalidation_0-auc:0.83047\tvalidation_1-auc:0.771262\n",
            "[250]\tvalidation_0-auc:0.840177\tvalidation_1-auc:0.772565\n",
            "[300]\tvalidation_0-auc:0.848928\tvalidation_1-auc:0.773241\n",
            "[350]\tvalidation_0-auc:0.857256\tvalidation_1-auc:0.774468\n",
            "[400]\tvalidation_0-auc:0.864293\tvalidation_1-auc:0.775727\n",
            "[450]\tvalidation_0-auc:0.870371\tvalidation_1-auc:0.776396\n",
            "[500]\tvalidation_0-auc:0.875796\tvalidation_1-auc:0.775858\n",
            "Stopping. Best iteration:\n",
            "[456]\tvalidation_0-auc:0.870802\tvalidation_1-auc:0.776455\n",
            "\n"
          ]
        },
        {
          "metadata": {
            "tags": null
          },
          "name": "stderr",
          "output_type": "stream",
          "text": [
            "\rTraining:  20%|██        | 1/5 [03:22<13:29, 202.30s/it]"
          ]
        },
        {
          "metadata": {
            "tags": null
          },
          "name": "stdout",
          "output_type": "stream",
          "text": [
            "[0]\tvalidation_0-auc:0.725004\tvalidation_1-auc:0.719063\n",
            "Multiple eval metrics have been passed: 'validation_1-auc' will be used for early stopping.\n",
            "\n",
            "Will train until validation_1-auc hasn't improved in 50 rounds.\n",
            "[50]\tvalidation_0-auc:0.782501\tvalidation_1-auc:0.763242\n",
            "[100]\tvalidation_0-auc:0.803325\tvalidation_1-auc:0.770908\n",
            "[150]\tvalidation_0-auc:0.818093\tvalidation_1-auc:0.773996\n",
            "[200]\tvalidation_0-auc:0.830628\tvalidation_1-auc:0.775727\n",
            "[250]\tvalidation_0-auc:0.841395\tvalidation_1-auc:0.776232\n",
            "Stopping. Best iteration:\n",
            "[216]\tvalidation_0-auc:0.834464\tvalidation_1-auc:0.776414\n",
            "\n"
          ]
        },
        {
          "metadata": {
            "tags": null
          },
          "name": "stderr",
          "output_type": "stream",
          "text": [
            "\rTraining:  40%|████      | 2/5 [05:10<07:20, 146.68s/it]"
          ]
        },
        {
          "metadata": {
            "tags": null
          },
          "name": "stdout",
          "output_type": "stream",
          "text": [
            "[0]\tvalidation_0-auc:0.728598\tvalidation_1-auc:0.719779\n",
            "Multiple eval metrics have been passed: 'validation_1-auc' will be used for early stopping.\n",
            "\n",
            "Will train until validation_1-auc hasn't improved in 50 rounds.\n",
            "[50]\tvalidation_0-auc:0.783944\tvalidation_1-auc:0.758928\n",
            "[100]\tvalidation_0-auc:0.803366\tvalidation_1-auc:0.763675\n",
            "[150]\tvalidation_0-auc:0.81896\tvalidation_1-auc:0.767521\n",
            "[200]\tvalidation_0-auc:0.831363\tvalidation_1-auc:0.769338\n",
            "[250]\tvalidation_0-auc:0.840627\tvalidation_1-auc:0.770131\n",
            "[300]\tvalidation_0-auc:0.850025\tvalidation_1-auc:0.771227\n",
            "[350]\tvalidation_0-auc:0.857253\tvalidation_1-auc:0.771945\n",
            "[400]\tvalidation_0-auc:0.863744\tvalidation_1-auc:0.772946\n",
            "[450]\tvalidation_0-auc:0.870581\tvalidation_1-auc:0.772835\n",
            "Stopping. Best iteration:\n",
            "[423]\tvalidation_0-auc:0.867059\tvalidation_1-auc:0.77328\n",
            "\n"
          ]
        },
        {
          "metadata": {
            "tags": null
          },
          "name": "stderr",
          "output_type": "stream",
          "text": [
            "\rTraining:  60%|██████    | 3/5 [08:18<05:31, 165.71s/it]"
          ]
        },
        {
          "metadata": {
            "tags": null
          },
          "name": "stdout",
          "output_type": "stream",
          "text": [
            "[0]\tvalidation_0-auc:0.729653\tvalidation_1-auc:0.713556\n",
            "Multiple eval metrics have been passed: 'validation_1-auc' will be used for early stopping.\n",
            "\n",
            "Will train until validation_1-auc hasn't improved in 50 rounds.\n",
            "[50]\tvalidation_0-auc:0.78588\tvalidation_1-auc:0.755209\n",
            "[100]\tvalidation_0-auc:0.806125\tvalidation_1-auc:0.762765\n",
            "[150]\tvalidation_0-auc:0.821393\tvalidation_1-auc:0.766567\n",
            "[200]\tvalidation_0-auc:0.832918\tvalidation_1-auc:0.768262\n",
            "[250]\tvalidation_0-auc:0.843317\tvalidation_1-auc:0.769535\n",
            "[300]\tvalidation_0-auc:0.852299\tvalidation_1-auc:0.770257\n",
            "[350]\tvalidation_0-auc:0.860003\tvalidation_1-auc:0.770943\n",
            "[400]\tvalidation_0-auc:0.866924\tvalidation_1-auc:0.771477\n",
            "[450]\tvalidation_0-auc:0.873115\tvalidation_1-auc:0.772281\n",
            "[500]\tvalidation_0-auc:0.877805\tvalidation_1-auc:0.772505\n",
            "[550]\tvalidation_0-auc:0.88234\tvalidation_1-auc:0.772732\n",
            "[600]\tvalidation_0-auc:0.887003\tvalidation_1-auc:0.772696\n",
            "Stopping. Best iteration:\n",
            "[565]\tvalidation_0-auc:0.883679\tvalidation_1-auc:0.772913\n",
            "\n"
          ]
        },
        {
          "metadata": {
            "tags": null
          },
          "name": "stderr",
          "output_type": "stream",
          "text": [
            "\rTraining:  80%|████████  | 4/5 [12:22<03:16, 196.78s/it]"
          ]
        },
        {
          "output_type": "stream",
          "name": "stdout",
          "text": [
            "[0]\tvalidation_0-auc:0.727396\tvalidation_1-auc:0.719041\n",
            "Multiple eval metrics have been passed: 'validation_1-auc' will be used for early stopping.\n",
            "\n",
            "Will train until validation_1-auc hasn't improved in 50 rounds.\n",
            "[50]\tvalidation_0-auc:0.783916\tvalidation_1-auc:0.756992\n",
            "[100]\tvalidation_0-auc:0.803853\tvalidation_1-auc:0.762785\n",
            "[150]\tvalidation_0-auc:0.819534\tvalidation_1-auc:0.76624\n",
            "[200]\tvalidation_0-auc:0.832255\tvalidation_1-auc:0.767512\n",
            "[250]\tvalidation_0-auc:0.841957\tvalidation_1-auc:0.768545\n",
            "[300]\tvalidation_0-auc:0.850801\tvalidation_1-auc:0.769542\n",
            "[350]\tvalidation_0-auc:0.858145\tvalidation_1-auc:0.769821\n",
            "Stopping. Best iteration:\n",
            "[326]\tvalidation_0-auc:0.85533\tvalidation_1-auc:0.77001\n",
            "\n"
          ]
        },
        {
          "output_type": "stream",
          "name": "stderr",
          "text": [
            "Training: 100%|██████████| 5/5 [14:52<00:00, 178.57s/it]"
          ]
        },
        {
          "output_type": "stream",
          "name": "stdout",
          "text": [
            "XGB End of training, avg metric: 0.7738144089237131\n"
          ]
        },
        {
          "output_type": "stream",
          "name": "stderr",
          "text": [
            "\n"
          ]
        },
        {
          "output_type": "execute_result",
          "data": {
            "text/plain": [
              "0.7738144089237131"
            ]
          },
          "metadata": {},
          "execution_count": 75
        }
      ]
    },
    {
      "cell_type": "code",
      "source": [
        "pred_xgb = learner.predict(df_test, features, ['XGB'])"
      ],
      "metadata": {
        "colab": {
          "base_uri": "https://localhost:8080/"
        },
        "id": "96PWH3_wdaJt",
        "outputId": "fcf1b1c3-7984-4dc3-a285-0e6462690bf5"
      },
      "execution_count": null,
      "outputs": [
        {
          "output_type": "stream",
          "name": "stderr",
          "text": [
            "Predicting: 100%|██████████| 1/1 [00:04<00:00,  4.39s/it]\n"
          ]
        }
      ]
    },
    {
      "cell_type": "code",
      "source": [
        "performance(y_test, pred_xgb)"
      ],
      "metadata": {
        "colab": {
          "base_uri": "https://localhost:8080/"
        },
        "id": "UqkAuc4SLHSp",
        "outputId": "56fb57be-3bc8-4655-ff3d-5b45bad9f71e"
      },
      "execution_count": null,
      "outputs": [
        {
          "output_type": "stream",
          "name": "stderr",
          "text": [
            "Finding the best threshold: 100%|██████████| 500/500 [00:10<00:00, 48.12it/s]"
          ]
        },
        {
          "output_type": "stream",
          "name": "stdout",
          "text": [
            "\n",
            "AUC: 0.7782139284953453\n",
            "Recall: 0.692744102717229\n"
          ]
        },
        {
          "output_type": "stream",
          "name": "stderr",
          "text": [
            "\n"
          ]
        }
      ]
    },
    {
      "cell_type": "markdown",
      "source": [
        "#### LightGBM"
      ],
      "metadata": {
        "id": "3qNLVnEnla9w"
      }
    },
    {
      "cell_type": "code",
      "source": [
        "params = {\n",
        "    'feature_fraction_seed': 2021,\n",
        "    'bagging_seed': 2021,\n",
        "    'boost': 'gbdt',\n",
        "    'metric':'auc',\n",
        "    'categorical_features': (7,8,9,10,40,41,42,43,44,45,46,47,48,49,50,51,52,53,54),\n",
        "    'bagging_fraction': 0.4783983290936046,\n",
        "    'bagging_freq': 7,\n",
        "    'feature_fraction': 0.11223379514645648,\n",
        "    'lambda_l1': 0.07204681502460102,\n",
        "    'lambda_l2': 0.030915217612776158,\n",
        "    'learning_rate': 0.005126897381453105,\n",
        "    'max_depth': 21,\n",
        "    'min_data_in_leaf': 66,\n",
        "    'num_leaves': 650,\n",
        "    'n_estimators': 1000,\n",
        "    }\n",
        "metric, pred_col = learner.train(df_train, target, features, 5, 'LGB', params, roc_auc_score, return_pred_col=True)"
      ],
      "metadata": {
        "colab": {
          "base_uri": "https://localhost:8080/"
        },
        "id": "-Tk9lXNonrKZ",
        "outputId": "c3b5ddf1-a8bd-4137-bc1b-a0464fbd88c6"
      },
      "execution_count": null,
      "outputs": [
        {
          "metadata": {
            "tags": null
          },
          "name": "stderr",
          "output_type": "stream",
          "text": [
            "\rTraining:   0%|          | 0/5 [00:00<?, ?it/s]"
          ]
        },
        {
          "metadata": {
            "tags": null
          },
          "name": "stdout",
          "output_type": "stream",
          "text": [
            "Training until validation scores don't improve for 20 rounds.\n",
            "[50]\ttraining's auc: 0.867544\ttraining's binary_logloss: 0.621202\tvalid_1's auc: 0.750479\tvalid_1's binary_logloss: 0.631945\n",
            "[100]\ttraining's auc: 0.881499\ttraining's binary_logloss: 0.568598\tvalid_1's auc: 0.758612\tvalid_1's binary_logloss: 0.590146\n",
            "[150]\ttraining's auc: 0.891359\ttraining's binary_logloss: 0.527196\tvalid_1's auc: 0.763013\tvalid_1's binary_logloss: 0.559195\n",
            "[200]\ttraining's auc: 0.899226\ttraining's binary_logloss: 0.494024\tvalid_1's auc: 0.765597\tvalid_1's binary_logloss: 0.536177\n",
            "[250]\ttraining's auc: 0.906068\ttraining's binary_logloss: 0.466452\tvalid_1's auc: 0.766994\tvalid_1's binary_logloss: 0.518043\n",
            "[300]\ttraining's auc: 0.912289\ttraining's binary_logloss: 0.442948\tvalid_1's auc: 0.768306\tvalid_1's binary_logloss: 0.503399\n",
            "[350]\ttraining's auc: 0.918103\ttraining's binary_logloss: 0.422584\tvalid_1's auc: 0.768744\tvalid_1's binary_logloss: 0.491271\n",
            "[400]\ttraining's auc: 0.922935\ttraining's binary_logloss: 0.404867\tvalid_1's auc: 0.769362\tvalid_1's binary_logloss: 0.480986\n",
            "Early stopping, best iteration is:\n",
            "[407]\ttraining's auc: 0.923536\ttraining's binary_logloss: 0.402599\tvalid_1's auc: 0.769394\tvalid_1's binary_logloss: 0.479726\n"
          ]
        },
        {
          "metadata": {
            "tags": null
          },
          "name": "stderr",
          "output_type": "stream",
          "text": [
            "\rTraining:  20%|██        | 1/5 [01:58<07:55, 118.91s/it]"
          ]
        },
        {
          "metadata": {
            "tags": null
          },
          "name": "stdout",
          "output_type": "stream",
          "text": [
            "Training until validation scores don't improve for 20 rounds.\n",
            "[50]\ttraining's auc: 0.863665\ttraining's binary_logloss: 0.622097\tvalid_1's auc: 0.752579\tvalid_1's binary_logloss: 0.631884\n",
            "[100]\ttraining's auc: 0.877887\ttraining's binary_logloss: 0.569613\tvalid_1's auc: 0.759007\tvalid_1's binary_logloss: 0.590011\n",
            "[150]\ttraining's auc: 0.888607\ttraining's binary_logloss: 0.528635\tvalid_1's auc: 0.762716\tvalid_1's binary_logloss: 0.559252\n",
            "[200]\ttraining's auc: 0.897436\ttraining's binary_logloss: 0.495278\tvalid_1's auc: 0.765919\tvalid_1's binary_logloss: 0.535511\n",
            "[250]\ttraining's auc: 0.904833\ttraining's binary_logloss: 0.467445\tvalid_1's auc: 0.769123\tvalid_1's binary_logloss: 0.516577\n",
            "[300]\ttraining's auc: 0.91157\ttraining's binary_logloss: 0.443865\tvalid_1's auc: 0.770912\tvalid_1's binary_logloss: 0.501372\n",
            "[350]\ttraining's auc: 0.917947\ttraining's binary_logloss: 0.422921\tvalid_1's auc: 0.772491\tvalid_1's binary_logloss: 0.488091\n",
            "[400]\ttraining's auc: 0.923018\ttraining's binary_logloss: 0.404837\tvalid_1's auc: 0.773916\tvalid_1's binary_logloss: 0.476709\n",
            "[450]\ttraining's auc: 0.92779\ttraining's binary_logloss: 0.389085\tvalid_1's auc: 0.774732\tvalid_1's binary_logloss: 0.467276\n",
            "[500]\ttraining's auc: 0.932066\ttraining's binary_logloss: 0.375339\tvalid_1's auc: 0.774998\tvalid_1's binary_logloss: 0.459367\n",
            "Early stopping, best iteration is:\n",
            "[515]\ttraining's auc: 0.933234\ttraining's binary_logloss: 0.371528\tvalid_1's auc: 0.775071\tvalid_1's binary_logloss: 0.457212\n"
          ]
        },
        {
          "metadata": {
            "tags": null
          },
          "name": "stderr",
          "output_type": "stream",
          "text": [
            "\rTraining:  40%|████      | 2/5 [04:25<06:45, 135.25s/it]"
          ]
        },
        {
          "output_type": "stream",
          "name": "stdout",
          "text": [
            "Training until validation scores don't improve for 20 rounds.\n",
            "[50]\ttraining's auc: 0.861371\ttraining's binary_logloss: 0.621789\tvalid_1's auc: 0.748311\tvalid_1's binary_logloss: 0.631614\n",
            "[100]\ttraining's auc: 0.877547\ttraining's binary_logloss: 0.569474\tvalid_1's auc: 0.757363\tvalid_1's binary_logloss: 0.589714\n",
            "[150]\ttraining's auc: 0.888277\ttraining's binary_logloss: 0.528546\tvalid_1's auc: 0.761986\tvalid_1's binary_logloss: 0.558812\n",
            "[200]\ttraining's auc: 0.897012\ttraining's binary_logloss: 0.494987\tvalid_1's auc: 0.764174\tvalid_1's binary_logloss: 0.535482\n",
            "[250]\ttraining's auc: 0.904071\ttraining's binary_logloss: 0.467296\tvalid_1's auc: 0.765863\tvalid_1's binary_logloss: 0.517284\n",
            "[300]\ttraining's auc: 0.910388\ttraining's binary_logloss: 0.444127\tvalid_1's auc: 0.767363\tvalid_1's binary_logloss: 0.502405\n",
            "[350]\ttraining's auc: 0.915993\ttraining's binary_logloss: 0.423786\tvalid_1's auc: 0.76905\tvalid_1's binary_logloss: 0.489909\n",
            "[400]\ttraining's auc: 0.921188\ttraining's binary_logloss: 0.406406\tvalid_1's auc: 0.769935\tvalid_1's binary_logloss: 0.479458\n",
            "[450]\ttraining's auc: 0.926087\ttraining's binary_logloss: 0.390985\tvalid_1's auc: 0.770638\tvalid_1's binary_logloss: 0.470396\n",
            "[500]\ttraining's auc: 0.930462\ttraining's binary_logloss: 0.377267\tvalid_1's auc: 0.771591\tvalid_1's binary_logloss: 0.462521\n",
            "[550]\ttraining's auc: 0.934532\ttraining's binary_logloss: 0.364874\tvalid_1's auc: 0.771974\tvalid_1's binary_logloss: 0.455623\n",
            "[600]\ttraining's auc: 0.938534\ttraining's binary_logloss: 0.353831\tvalid_1's auc: 0.772538\tvalid_1's binary_logloss: 0.44942\n",
            "Early stopping, best iteration is:\n",
            "[622]\ttraining's auc: 0.94024\ttraining's binary_logloss: 0.349212\tvalid_1's auc: 0.772725\tvalid_1's binary_logloss: 0.446804\n"
          ]
        },
        {
          "output_type": "stream",
          "name": "stderr",
          "text": [
            "\rTraining:  60%|██████    | 3/5 [07:20<05:06, 153.16s/it]"
          ]
        },
        {
          "output_type": "stream",
          "name": "stdout",
          "text": [
            "Training until validation scores don't improve for 20 rounds.\n",
            "[50]\ttraining's auc: 0.870324\ttraining's binary_logloss: 0.620972\tvalid_1's auc: 0.745326\tvalid_1's binary_logloss: 0.631255\n",
            "[100]\ttraining's auc: 0.881649\ttraining's binary_logloss: 0.568264\tvalid_1's auc: 0.751527\tvalid_1's binary_logloss: 0.589073\n",
            "[150]\ttraining's auc: 0.890949\ttraining's binary_logloss: 0.527177\tvalid_1's auc: 0.755262\tvalid_1's binary_logloss: 0.558735\n",
            "[200]\ttraining's auc: 0.898562\ttraining's binary_logloss: 0.493876\tvalid_1's auc: 0.756685\tvalid_1's binary_logloss: 0.536196\n",
            "[250]\ttraining's auc: 0.905244\ttraining's binary_logloss: 0.466373\tvalid_1's auc: 0.758093\tvalid_1's binary_logloss: 0.518143\n",
            "[300]\ttraining's auc: 0.911439\ttraining's binary_logloss: 0.442739\tvalid_1's auc: 0.759535\tvalid_1's binary_logloss: 0.503196\n",
            "[350]\ttraining's auc: 0.917099\ttraining's binary_logloss: 0.422347\tvalid_1's auc: 0.760807\tvalid_1's binary_logloss: 0.490697\n",
            "[400]\ttraining's auc: 0.922373\ttraining's binary_logloss: 0.404562\tvalid_1's auc: 0.762054\tvalid_1's binary_logloss: 0.479925\n",
            "[450]\ttraining's auc: 0.927308\ttraining's binary_logloss: 0.389109\tvalid_1's auc: 0.762926\tvalid_1's binary_logloss: 0.470721\n",
            "[500]\ttraining's auc: 0.932105\ttraining's binary_logloss: 0.37507\tvalid_1's auc: 0.763938\tvalid_1's binary_logloss: 0.46261\n",
            "[550]\ttraining's auc: 0.936178\ttraining's binary_logloss: 0.362236\tvalid_1's auc: 0.76451\tvalid_1's binary_logloss: 0.455383\n",
            "[600]\ttraining's auc: 0.93973\ttraining's binary_logloss: 0.350766\tvalid_1's auc: 0.764812\tvalid_1's binary_logloss: 0.449307\n",
            "[650]\ttraining's auc: 0.943061\ttraining's binary_logloss: 0.340332\tvalid_1's auc: 0.765474\tvalid_1's binary_logloss: 0.443685\n",
            "[700]\ttraining's auc: 0.945973\ttraining's binary_logloss: 0.330709\tvalid_1's auc: 0.765989\tvalid_1's binary_logloss: 0.43852\n",
            "[750]\ttraining's auc: 0.948903\ttraining's binary_logloss: 0.322062\tvalid_1's auc: 0.766446\tvalid_1's binary_logloss: 0.433887\n",
            "Early stopping, best iteration is:\n",
            "[761]\ttraining's auc: 0.949608\ttraining's binary_logloss: 0.320079\tvalid_1's auc: 0.7665\tvalid_1's binary_logloss: 0.432826\n"
          ]
        },
        {
          "output_type": "stream",
          "name": "stderr",
          "text": [
            "\rTraining:  80%|████████  | 4/5 [10:48<02:54, 174.80s/it]"
          ]
        },
        {
          "output_type": "stream",
          "name": "stdout",
          "text": [
            "Training until validation scores don't improve for 20 rounds.\n",
            "[50]\ttraining's auc: 0.865662\ttraining's binary_logloss: 0.62123\tvalid_1's auc: 0.740904\tvalid_1's binary_logloss: 0.632468\n",
            "[100]\ttraining's auc: 0.879579\ttraining's binary_logloss: 0.568635\tvalid_1's auc: 0.749273\tvalid_1's binary_logloss: 0.59081\n",
            "[150]\ttraining's auc: 0.890299\ttraining's binary_logloss: 0.527473\tvalid_1's auc: 0.753459\tvalid_1's binary_logloss: 0.560506\n",
            "[200]\ttraining's auc: 0.898071\ttraining's binary_logloss: 0.494547\tvalid_1's auc: 0.755953\tvalid_1's binary_logloss: 0.537924\n",
            "[250]\ttraining's auc: 0.905384\ttraining's binary_logloss: 0.466983\tvalid_1's auc: 0.75827\tvalid_1's binary_logloss: 0.519929\n",
            "[300]\ttraining's auc: 0.911681\ttraining's binary_logloss: 0.443512\tvalid_1's auc: 0.760106\tvalid_1's binary_logloss: 0.505043\n",
            "[350]\ttraining's auc: 0.917502\ttraining's binary_logloss: 0.423047\tvalid_1's auc: 0.761906\tvalid_1's binary_logloss: 0.492516\n",
            "[400]\ttraining's auc: 0.922757\ttraining's binary_logloss: 0.405031\tvalid_1's auc: 0.763207\tvalid_1's binary_logloss: 0.48192\n",
            "[450]\ttraining's auc: 0.927613\ttraining's binary_logloss: 0.389338\tvalid_1's auc: 0.763982\tvalid_1's binary_logloss: 0.472746\n",
            "[500]\ttraining's auc: 0.93181\ttraining's binary_logloss: 0.375179\tvalid_1's auc: 0.764706\tvalid_1's binary_logloss: 0.464467\n",
            "[550]\ttraining's auc: 0.935934\ttraining's binary_logloss: 0.362452\tvalid_1's auc: 0.765316\tvalid_1's binary_logloss: 0.457338\n",
            "Early stopping, best iteration is:\n",
            "[565]\ttraining's auc: 0.937032\ttraining's binary_logloss: 0.358987\tvalid_1's auc: 0.765484\tvalid_1's binary_logloss: 0.455492\n"
          ]
        },
        {
          "output_type": "stream",
          "name": "stderr",
          "text": [
            "Training: 100%|██████████| 5/5 [13:27<00:00, 161.42s/it]"
          ]
        },
        {
          "output_type": "stream",
          "name": "stdout",
          "text": [
            "LGB End of training, avg metric: 0.7698347577878326\n"
          ]
        },
        {
          "output_type": "stream",
          "name": "stderr",
          "text": [
            "\n"
          ]
        }
      ]
    },
    {
      "cell_type": "code",
      "source": [
        "pred_lgb = learner.predict(df_test, features, ['LGB'])"
      ],
      "metadata": {
        "colab": {
          "base_uri": "https://localhost:8080/"
        },
        "id": "gzZRD3ryL3Ca",
        "outputId": "6b4c84ee-0a0c-49d4-9801-c8b0528a01c3"
      },
      "execution_count": null,
      "outputs": [
        {
          "output_type": "stream",
          "name": "stderr",
          "text": [
            "Predicting: 100%|██████████| 1/1 [00:36<00:00, 36.12s/it]\n"
          ]
        }
      ]
    },
    {
      "cell_type": "code",
      "source": [
        "performance(y_test, pred_lgb)"
      ],
      "metadata": {
        "colab": {
          "base_uri": "https://localhost:8080/"
        },
        "id": "VSUpPs_VJw5a",
        "outputId": "9a46888e-5d2d-40ed-f3c4-f243a0b58aa5"
      },
      "execution_count": null,
      "outputs": [
        {
          "output_type": "stream",
          "name": "stderr",
          "text": [
            "Finding the best threshold: 100%|██████████| 500/500 [00:10<00:00, 48.10it/s]"
          ]
        },
        {
          "output_type": "stream",
          "name": "stdout",
          "text": [
            "\n",
            "AUC: 0.7762439592080858\n",
            "Recall: 0.6049567034935802\n"
          ]
        },
        {
          "output_type": "stream",
          "name": "stderr",
          "text": [
            "\n"
          ]
        }
      ]
    },
    {
      "cell_type": "code",
      "source": [
        "model = learner.model_dict['LGB']['model'][0]\n",
        "feature_imp = pd.DataFrame(sorted(zip(model.feature_importances_,df_train.columns)), columns=['Value','Feature'])\n",
        "\n",
        "plt.figure(figsize=(20, 10))\n",
        "sn.barplot(x=\"Value\", y=\"Feature\", data=feature_imp.sort_values(by=\"Value\", ascending=False))\n",
        "plt.title('LightGBM Features')\n",
        "plt.tight_layout()\n",
        "plt.show()"
      ],
      "metadata": {
        "colab": {
          "base_uri": "https://localhost:8080/",
          "height": 341
        },
        "id": "IcJagL2vmnNf",
        "outputId": "432c9656-b661-46b3-9726-0dfbb2ce56b4"
      },
      "execution_count": null,
      "outputs": [
        {
          "output_type": "display_data",
          "data": {
            "image/png": "[encoded data removed]",
            "text/plain": [
              "<Figure size 1440x720 with 1 Axes>"
            ]
          },
          "metadata": {
            "needs_background": "light"
          }
        }
      ]
    },
    {
      "cell_type": "markdown",
      "source": [
        "### Neural Network"
      ],
      "metadata": {
        "id": "eSiomrLvnJdn"
      }
    },
    {
      "cell_type": "markdown",
      "source": [
        "#### Preprocessing"
      ],
      "metadata": {
        "id": "7Pee157o_Aci"
      }
    },
    {
      "cell_type": "code",
      "source": [
        "def get_dataset(input_scaler, output_scaler, x, x_test, Y, Y_test):\n",
        "        # scale inputs\n",
        "    if input_scaler is not None:\n",
        "      # fit scaler\n",
        "      input_scaler.fit(x)\n",
        "      # transform training dataset\n",
        "      x = input_scaler.transform(x)\n",
        "      # transform test dataset\n",
        "      x_test = input_scaler.transform(x_test)\n",
        "    if output_scaler is not None:\n",
        "      # reshape 1d arrays to 2d arrays\n",
        "      Y = Y.values.reshape(len(Y), 1)\n",
        "      Y_test = Y_test.values.reshape(len(Y_test), 1)\n",
        "      # fit scaler on training dataset\n",
        "      output_scaler.fit(Y)\n",
        "      # transform training dataset\n",
        "      Y = output_scaler.transform(Y)\n",
        "      # transform test dataset\n",
        "      Y_test = output_scaler.transform(Y_test)\n",
        "    return x, x_test, Y, Y_test"
      ],
      "metadata": {
        "id": "pRCQGTV82NE6"
      },
      "execution_count": 17,
      "outputs": []
    },
    {
      "cell_type": "code",
      "source": [
        "X_train_scaled, X_test_scaled, y_train_scaled, y_test_scaled = get_dataset(MinMaxScaler(), StandardScaler(), X_train, X_test, y_train, y_test)"
      ],
      "metadata": {
        "id": "sOU6cRKH2Ehj"
      },
      "execution_count": 21,
      "outputs": []
    },
    {
      "cell_type": "code",
      "source": [
        "X_train_f = np.asarray(X_train_scaled).astype('float32')\n",
        "X_test_f = np.asarray(X_test_scaled).astype('float32')\n",
        "y_train_f = np.asarray(y_train).astype('float32')\n",
        "y_test_f = np.asarray(y_test).astype('float32')\n",
        "df_X_sampled_f, df_y_sampled_f = smote.fit_resample(X_train_f,y_train_f)"
      ],
      "metadata": {
        "id": "XPGt07rG0V6o"
      },
      "execution_count": 32,
      "outputs": []
    },
    {
      "cell_type": "markdown",
      "source": [
        "#### Modelling"
      ],
      "metadata": {
        "id": "mcMJft31_INE"
      }
    },
    {
      "cell_type": "code",
      "source": [
        "print('Building Neural Network model...')\n",
        "adam = tf.keras.optimizers.Adam(learning_rate = 0.001, decay = 0.0000001)\n",
        "\n",
        "model = Sequential()\n",
        "model.add(Dense(57, input_dim=X_train_f.shape[1],\n",
        "                kernel_initializer='normal',\n",
        "                kernel_regularizer=regularizers.l2(0.001),\n",
        "                activation=\"relu\"))\n",
        "model.add(Dropout(0.2))\n",
        "model.add(Dense(20,activation=\"relu\"))\n",
        "model.add(Dense(20,activation=\"relu\"))\n",
        "model.add(Dense(20,activation=\"relu\"))\n",
        "model.add(Dense(1))\n",
        "model.add(Activation(\"sigmoid\"))\n",
        "model.compile(loss='binary_crossentropy', optimizer=SGD(lr=0.0001, momentum=0.9))\n",
        "\n",
        "history = model.fit(df_X_sampled_f, df_y_sampled_f, validation_split=0.2, epochs=50, batch_size=32)\n"
      ],
      "metadata": {
        "colab": {
          "base_uri": "https://localhost:8080/"
        },
        "id": "L3v-4Uo-z8mP",
        "outputId": "be4fdfab-c364-4e95-9511-45007a5a8eae"
      },
      "execution_count": 43,
      "outputs": [
        {
          "output_type": "stream",
          "name": "stdout",
          "text": [
            "Building Neural Network model...\n",
            "Epoch 1/50\n",
            "6561/6561 [==============================] - 10s 1ms/step - loss: 0.6677 - val_loss: 0.9755\n",
            "Epoch 2/50\n",
            "6561/6561 [==============================] - 10s 1ms/step - loss: 0.6589 - val_loss: 0.9940\n",
            "Epoch 3/50\n",
            "6561/6561 [==============================] - 10s 1ms/step - loss: 0.6528 - val_loss: 0.9844\n",
            "Epoch 4/50\n",
            "6561/6561 [==============================] - 10s 1ms/step - loss: 0.6472 - val_loss: 0.9596\n",
            "Epoch 5/50\n",
            "6561/6561 [==============================] - 11s 2ms/step - loss: 0.6403 - val_loss: 0.9602\n",
            "Epoch 6/50\n",
            "6561/6561 [==============================] - 10s 1ms/step - loss: 0.6334 - val_loss: 0.9452\n",
            "Epoch 7/50\n",
            "6561/6561 [==============================] - 10s 1ms/step - loss: 0.6264 - val_loss: 0.9284\n",
            "Epoch 8/50\n",
            "6561/6561 [==============================] - 9s 1ms/step - loss: 0.6195 - val_loss: 0.9613\n",
            "Epoch 9/50\n",
            "6561/6561 [==============================] - 9s 1ms/step - loss: 0.6149 - val_loss: 0.9557\n",
            "Epoch 10/50\n",
            "6561/6561 [==============================] - 9s 1ms/step - loss: 0.6109 - val_loss: 0.9069\n",
            "Epoch 11/50\n",
            "6561/6561 [==============================] - 10s 1ms/step - loss: 0.6074 - val_loss: 0.8869\n",
            "Epoch 12/50\n",
            "6561/6561 [==============================] - 10s 1ms/step - loss: 0.6046 - val_loss: 0.8619\n",
            "Epoch 13/50\n",
            "6561/6561 [==============================] - 10s 1ms/step - loss: 0.6024 - val_loss: 0.9039\n",
            "Epoch 14/50\n",
            "6561/6561 [==============================] - 9s 1ms/step - loss: 0.5998 - val_loss: 0.9195\n",
            "Epoch 15/50\n",
            "6561/6561 [==============================] - 10s 1ms/step - loss: 0.5984 - val_loss: 0.8790\n",
            "Epoch 16/50\n",
            "6561/6561 [==============================] - 10s 1ms/step - loss: 0.5964 - val_loss: 0.8792\n",
            "Epoch 17/50\n",
            "6561/6561 [==============================] - 10s 2ms/step - loss: 0.5951 - val_loss: 0.8559\n",
            "Epoch 18/50\n",
            "6561/6561 [==============================] - 9s 1ms/step - loss: 0.5934 - val_loss: 0.7466\n",
            "Epoch 19/50\n",
            "6561/6561 [==============================] - 10s 1ms/step - loss: 0.5925 - val_loss: 0.8460\n",
            "Epoch 20/50\n",
            "6561/6561 [==============================] - 10s 1ms/step - loss: 0.5914 - val_loss: 0.9239\n",
            "Epoch 21/50\n",
            "6561/6561 [==============================] - 9s 1ms/step - loss: 0.5902 - val_loss: 0.9142\n",
            "Epoch 22/50\n",
            "6561/6561 [==============================] - 9s 1ms/step - loss: 0.5890 - val_loss: 0.7814\n",
            "Epoch 23/50\n",
            "6561/6561 [==============================] - 9s 1ms/step - loss: 0.5876 - val_loss: 0.8719\n",
            "Epoch 24/50\n",
            "6561/6561 [==============================] - 10s 1ms/step - loss: 0.5871 - val_loss: 0.8174\n",
            "Epoch 25/50\n",
            "6561/6561 [==============================] - 9s 1ms/step - loss: 0.5866 - val_loss: 0.8440\n",
            "Epoch 26/50\n",
            "6561/6561 [==============================] - 10s 1ms/step - loss: 0.5853 - val_loss: 0.8220\n",
            "Epoch 27/50\n",
            "6561/6561 [==============================] - 10s 1ms/step - loss: 0.5846 - val_loss: 0.8414\n",
            "Epoch 28/50\n",
            "6561/6561 [==============================] - 10s 2ms/step - loss: 0.5841 - val_loss: 0.9203\n",
            "Epoch 29/50\n",
            "6561/6561 [==============================] - 9s 1ms/step - loss: 0.5836 - val_loss: 0.7668\n",
            "Epoch 30/50\n",
            "6561/6561 [==============================] - 9s 1ms/step - loss: 0.5828 - val_loss: 0.8642\n",
            "Epoch 31/50\n",
            "6561/6561 [==============================] - 11s 2ms/step - loss: 0.5823 - val_loss: 0.8294\n",
            "Epoch 32/50\n",
            "6561/6561 [==============================] - 10s 1ms/step - loss: 0.5817 - val_loss: 0.8118\n",
            "Epoch 33/50\n",
            "6561/6561 [==============================] - 10s 1ms/step - loss: 0.5814 - val_loss: 0.8914\n",
            "Epoch 34/50\n",
            "6561/6561 [==============================] - 9s 1ms/step - loss: 0.5807 - val_loss: 0.7959\n",
            "Epoch 35/50\n",
            "6561/6561 [==============================] - 10s 1ms/step - loss: 0.5802 - val_loss: 0.8190\n",
            "Epoch 36/50\n",
            "6561/6561 [==============================] - 11s 2ms/step - loss: 0.5797 - val_loss: 0.8678\n",
            "Epoch 37/50\n",
            "6561/6561 [==============================] - 10s 1ms/step - loss: 0.5793 - val_loss: 0.8021\n",
            "Epoch 38/50\n",
            "6561/6561 [==============================] - 10s 1ms/step - loss: 0.5791 - val_loss: 0.8851\n",
            "Epoch 39/50\n",
            "6561/6561 [==============================] - 9s 1ms/step - loss: 0.5787 - val_loss: 0.8893\n",
            "Epoch 40/50\n",
            "6561/6561 [==============================] - 10s 1ms/step - loss: 0.5785 - val_loss: 0.8395\n",
            "Epoch 41/50\n",
            "6561/6561 [==============================] - 10s 1ms/step - loss: 0.5780 - val_loss: 0.7774\n",
            "Epoch 42/50\n",
            "6561/6561 [==============================] - 10s 1ms/step - loss: 0.5779 - val_loss: 0.8170\n",
            "Epoch 43/50\n",
            "6561/6561 [==============================] - 9s 1ms/step - loss: 0.5776 - val_loss: 0.7933\n",
            "Epoch 44/50\n",
            "6561/6561 [==============================] - 10s 1ms/step - loss: 0.5769 - val_loss: 0.7653\n",
            "Epoch 45/50\n",
            "6561/6561 [==============================] - 10s 1ms/step - loss: 0.5767 - val_loss: 0.8468\n",
            "Epoch 46/50\n",
            "6561/6561 [==============================] - 10s 1ms/step - loss: 0.5765 - val_loss: 0.8107\n",
            "Epoch 47/50\n",
            "6561/6561 [==============================] - 11s 2ms/step - loss: 0.5762 - val_loss: 0.8550\n",
            "Epoch 48/50\n",
            "6561/6561 [==============================] - 10s 2ms/step - loss: 0.5757 - val_loss: 0.8116\n",
            "Epoch 49/50\n",
            "6561/6561 [==============================] - 10s 1ms/step - loss: 0.5752 - val_loss: 0.8286\n",
            "Epoch 50/50\n",
            "6561/6561 [==============================] - 10s 1ms/step - loss: 0.5756 - val_loss: 0.8912\n"
          ]
        }
      ]
    },
    {
      "cell_type": "code",
      "source": [
        "#Predict on test set\n",
        "predictions_NN_prob = model.predict(X_test_f)"
      ],
      "metadata": {
        "id": "Ft8_ZmW35OPS"
      },
      "execution_count": 49,
      "outputs": []
    },
    {
      "cell_type": "code",
      "source": [
        "performance(y_test_f, predictions_NN_prob)"
      ],
      "metadata": {
        "colab": {
          "base_uri": "https://localhost:8080/"
        },
        "id": "imgFsr2jt-y4",
        "outputId": "657ef212-1bff-47d5-fee8-c1682ae71a86"
      },
      "execution_count": 48,
      "outputs": [
        {
          "output_type": "stream",
          "name": "stderr",
          "text": [
            "Finding the best threshold: 100%|██████████| 500/500 [00:09<00:00, 54.41it/s]"
          ]
        },
        {
          "output_type": "stream",
          "name": "stdout",
          "text": [
            "\n",
            "AUC: 0.7350004090638649\n",
            "Recall: 0.42340997312630635\n"
          ]
        },
        {
          "output_type": "stream",
          "name": "stderr",
          "text": [
            "\n"
          ]
        }
      ]
    },
    {
      "cell_type": "code",
      "source": [
        "#Print Area Under Curve\n",
        "false_positive_rate, recall, thresholds = roc_curve(y_test_f, predictions_NN_prob)\n",
        "roc_auc = auc(false_positive_rate, recall)\n",
        "plt.figure()\n",
        "plt.title('Receiver Operating Characteristic (ROC)')\n",
        "plt.plot(false_positive_rate, recall, 'b', label = 'AUC = %0.3f' %roc_auc)\n",
        "plt.legend(loc='lower right')\n",
        "plt.plot([0,1], [0,1], 'r--')\n",
        "plt.xlim([0.0,1.0])\n",
        "plt.ylim([0.0,1.0])\n",
        "plt.ylabel('Recall')\n",
        "plt.xlabel('Fall-out (1-Specificity)')\n",
        "plt.show()"
      ],
      "metadata": {
        "colab": {
          "base_uri": "https://localhost:8080/",
          "height": 295
        },
        "id": "-QjuX6Ca6wFn",
        "outputId": "2d5944d9-5ff5-4148-d94e-00c4d8483f3f"
      },
      "execution_count": 47,
      "outputs": [
        {
          "output_type": "display_data",
          "data": {
            "image/png": "[encoded data removed]",
            "text/plain": [
              "<Figure size 432x288 with 1 Axes>"
            ]
          },
          "metadata": {
            "needs_background": "light"
          }
        }
      ]
    },
    {
      "cell_type": "markdown",
      "source": [
        "### Model Ensembling"
      ],
      "metadata": {
        "id": "FVDNGW6isxyf"
      }
    },
    {
      "cell_type": "code",
      "source": [
        "pred_classical = learner.predict(df_test, features, ['LR','LSVC','RF','NB'])"
      ],
      "metadata": {
        "colab": {
          "base_uri": "https://localhost:8080/"
        },
        "id": "ebOXkRJqRkOK",
        "outputId": "ba0323df-915d-44d4-901e-3b8a9724bb35"
      },
      "execution_count": null,
      "outputs": [
        {
          "output_type": "stream",
          "name": "stderr",
          "text": [
            "Predicting: 100%|██████████| 4/4 [00:03<00:00,  1.10it/s]\n"
          ]
        }
      ]
    },
    {
      "cell_type": "code",
      "source": [
        "performance(y_test, pred_classical)"
      ],
      "metadata": {
        "colab": {
          "base_uri": "https://localhost:8080/"
        },
        "id": "aVkuBK7WHgNw",
        "outputId": "0f292689-8784-4c64-d769-e2236f306a61"
      },
      "execution_count": null,
      "outputs": [
        {
          "output_type": "stream",
          "name": "stderr",
          "text": [
            "Finding the best threshold: 100%|██████████| 500/500 [00:10<00:00, 48.43it/s]"
          ]
        },
        {
          "output_type": "stream",
          "name": "stdout",
          "text": [
            "\n",
            "AUC: 0.7080316358378395\n",
            "Recall: 0.6142131979695431\n"
          ]
        },
        {
          "output_type": "stream",
          "name": "stderr",
          "text": [
            "\n"
          ]
        }
      ]
    },
    {
      "cell_type": "code",
      "source": [
        "pred_booster = learner.predict(df_test, features, ['LGB','XGB'])"
      ],
      "metadata": {
        "colab": {
          "base_uri": "https://localhost:8080/"
        },
        "id": "Qe06bAOC-Rqo",
        "outputId": "df01ff16-004d-4a1e-bc96-0bd122ca6c8e"
      },
      "execution_count": null,
      "outputs": [
        {
          "output_type": "stream",
          "name": "stderr",
          "text": [
            "Predicting: 100%|██████████| 2/2 [00:41<00:00, 20.73s/it]\n"
          ]
        }
      ]
    },
    {
      "cell_type": "code",
      "source": [
        "performance(y_test, pred_booster)"
      ],
      "metadata": {
        "colab": {
          "base_uri": "https://localhost:8080/"
        },
        "id": "Gvdmn7n1HfvK",
        "outputId": "21e7f8df-dea3-4352-e19b-fd6ab23353a9"
      },
      "execution_count": null,
      "outputs": [
        {
          "output_type": "stream",
          "name": "stderr",
          "text": [
            "Finding the best threshold: 100%|██████████| 500/500 [00:10<00:00, 48.61it/s]"
          ]
        },
        {
          "output_type": "stream",
          "name": "stdout",
          "text": [
            "\n",
            "AUC: 0.780263330266295\n",
            "Recall: 0.6419826813974321\n"
          ]
        },
        {
          "output_type": "stream",
          "name": "stderr",
          "text": [
            "\n"
          ]
        }
      ]
    },
    {
      "cell_type": "code",
      "source": [
        "pred_all = learner.predict(df_test, features, ['LR','LSVC','RF','NB','LGB','XGB'])"
      ],
      "metadata": {
        "colab": {
          "base_uri": "https://localhost:8080/"
        },
        "id": "l223HWBri2DF",
        "outputId": "fb0f678f-7075-4ced-f32e-ac99fb51f262"
      },
      "execution_count": null,
      "outputs": [
        {
          "output_type": "stream",
          "name": "stderr",
          "text": [
            "Predicting: 100%|██████████| 6/6 [00:41<00:00,  6.94s/it]\n"
          ]
        }
      ]
    },
    {
      "cell_type": "code",
      "source": [
        "performance(y_test, pred_all)"
      ],
      "metadata": {
        "colab": {
          "base_uri": "https://localhost:8080/"
        },
        "id": "SrcBnWmNjD1T",
        "outputId": "31aa0467-842c-427c-82af-40865e4176a9"
      },
      "execution_count": null,
      "outputs": [
        {
          "output_type": "stream",
          "name": "stderr",
          "text": [
            "Finding the best threshold: 100%|██████████| 500/500 [00:10<00:00, 48.70it/s]"
          ]
        },
        {
          "output_type": "stream",
          "name": "stdout",
          "text": [
            "\n",
            "AUC: 0.7432111828339253\n",
            "Recall: 0.6010749477455957\n"
          ]
        },
        {
          "output_type": "stream",
          "name": "stderr",
          "text": [
            "\n"
          ]
        }
      ]
    },
    {
      "cell_type": "markdown",
      "source": [
        "### Model Stacking"
      ],
      "metadata": {
        "id": "bD2jdRlSs-Zk"
      }
    },
    {
      "cell_type": "code",
      "source": [
        "df_train_stacking = df_train.copy()\n",
        "df_train_stacking['forecast'] = pred_col"
      ],
      "metadata": {
        "id": "C96cWIY7LE0B"
      },
      "execution_count": null,
      "outputs": []
    },
    {
      "cell_type": "code",
      "source": [
        "df_test_stacking = df_test.copy()\n",
        "df_test_stacking['forecast'] = pred_lgb"
      ],
      "metadata": {
        "id": "kIAyxiH0nhtK"
      },
      "execution_count": null,
      "outputs": []
    },
    {
      "cell_type": "code",
      "source": [
        "features_stacking = features.copy()\n",
        "features_stacking.append('forecast')"
      ],
      "metadata": {
        "id": "p3nqtGlPL9ci"
      },
      "execution_count": null,
      "outputs": []
    },
    {
      "cell_type": "code",
      "source": [
        "stacking_leaner = Learner()"
      ],
      "metadata": {
        "id": "IsoMQhQSGMVd"
      },
      "execution_count": null,
      "outputs": []
    },
    {
      "cell_type": "code",
      "source": [
        "param_xgb={\n",
        "    'n_estimators':1000,\n",
        "    'scale_pos_weight':10, \n",
        "    'subsample' : 0.8,\n",
        "    'colsample_bytree': 0.8,\n",
        "    'learning_rate': 0.09,\n",
        "    'max_depth': 5\n",
        "}\n",
        "stacking_leaner.train(df_test_stacking, target, features_stacking, 5, 'XGB', param_xgb, roc_auc_score)"
      ],
      "metadata": {
        "colab": {
          "base_uri": "https://localhost:8080/"
        },
        "id": "6WSOX7NdCCVQ",
        "outputId": "d668c1b7-6d15-4664-8969-0922df47d6cc"
      },
      "execution_count": null,
      "outputs": [
        {
          "output_type": "stream",
          "name": "stderr",
          "text": [
            "\rTraining:   0%|          | 0/5 [00:00<?, ?it/s]"
          ]
        },
        {
          "output_type": "stream",
          "name": "stdout",
          "text": [
            "[0]\tvalidation_0-auc:0.778968\tvalidation_1-auc:0.770546\n",
            "Multiple eval metrics have been passed: 'validation_1-auc' will be used for early stopping.\n",
            "\n",
            "Will train until validation_1-auc hasn't improved in 50 rounds.\n",
            "[50]\tvalidation_0-auc:0.835191\tvalidation_1-auc:0.786639\n",
            "Stopping. Best iteration:\n",
            "[16]\tvalidation_0-auc:0.807029\tvalidation_1-auc:0.788875\n",
            "\n"
          ]
        },
        {
          "output_type": "stream",
          "name": "stderr",
          "text": [
            "\rTraining:  20%|██        | 1/5 [00:07<00:28,  7.07s/it]"
          ]
        },
        {
          "output_type": "stream",
          "name": "stdout",
          "text": [
            "[0]\tvalidation_0-auc:0.780853\tvalidation_1-auc:0.77026\n",
            "Multiple eval metrics have been passed: 'validation_1-auc' will be used for early stopping.\n",
            "\n",
            "Will train until validation_1-auc hasn't improved in 50 rounds.\n",
            "[50]\tvalidation_0-auc:0.83765\tvalidation_1-auc:0.782945\n",
            "Stopping. Best iteration:\n",
            "[18]\tvalidation_0-auc:0.812683\tvalidation_1-auc:0.785105\n",
            "\n"
          ]
        },
        {
          "output_type": "stream",
          "name": "stderr",
          "text": [
            "\rTraining:  40%|████      | 2/5 [00:14<00:21,  7.12s/it]"
          ]
        },
        {
          "output_type": "stream",
          "name": "stdout",
          "text": [
            "[0]\tvalidation_0-auc:0.78389\tvalidation_1-auc:0.762395\n",
            "Multiple eval metrics have been passed: 'validation_1-auc' will be used for early stopping.\n",
            "\n",
            "Will train until validation_1-auc hasn't improved in 50 rounds.\n",
            "[50]\tvalidation_0-auc:0.835268\tvalidation_1-auc:0.775578\n",
            "Stopping. Best iteration:\n",
            "[41]\tvalidation_0-auc:0.830257\tvalidation_1-auc:0.776057\n",
            "\n"
          ]
        },
        {
          "output_type": "stream",
          "name": "stderr",
          "text": [
            "\rTraining:  60%|██████    | 3/5 [00:23<00:16,  8.15s/it]"
          ]
        },
        {
          "output_type": "stream",
          "name": "stdout",
          "text": [
            "[0]\tvalidation_0-auc:0.788878\tvalidation_1-auc:0.741621\n",
            "Multiple eval metrics have been passed: 'validation_1-auc' will be used for early stopping.\n",
            "\n",
            "Will train until validation_1-auc hasn't improved in 50 rounds.\n",
            "[50]\tvalidation_0-auc:0.844871\tvalidation_1-auc:0.747968\n",
            "Stopping. Best iteration:\n",
            "[38]\tvalidation_0-auc:0.835588\tvalidation_1-auc:0.748576\n",
            "\n"
          ]
        },
        {
          "output_type": "stream",
          "name": "stderr",
          "text": [
            "\rTraining:  80%|████████  | 4/5 [00:32<00:08,  8.56s/it]"
          ]
        },
        {
          "output_type": "stream",
          "name": "stdout",
          "text": [
            "[0]\tvalidation_0-auc:0.786343\tvalidation_1-auc:0.75359\n",
            "Multiple eval metrics have been passed: 'validation_1-auc' will be used for early stopping.\n",
            "\n",
            "Will train until validation_1-auc hasn't improved in 50 rounds.\n",
            "[50]\tvalidation_0-auc:0.83746\tvalidation_1-auc:0.768012\n",
            "[100]\tvalidation_0-auc:0.868171\tvalidation_1-auc:0.766923\n",
            "Stopping. Best iteration:\n",
            "[56]\tvalidation_0-auc:0.841388\tvalidation_1-auc:0.768937\n",
            "\n"
          ]
        },
        {
          "output_type": "stream",
          "name": "stderr",
          "text": [
            "Training: 100%|██████████| 5/5 [00:43<00:00,  8.75s/it]"
          ]
        },
        {
          "output_type": "stream",
          "name": "stdout",
          "text": [
            "XGB End of training, avg metric: 0.773510048994074\n"
          ]
        },
        {
          "output_type": "stream",
          "name": "stderr",
          "text": [
            "\n"
          ]
        },
        {
          "output_type": "execute_result",
          "data": {
            "text/plain": [
              "0.773510048994074"
            ]
          },
          "metadata": {},
          "execution_count": 108
        }
      ]
    },
    {
      "cell_type": "code",
      "source": [
        "pred_stacking = stacking_leaner.predict(df_test_stacking, features_stacking, ['XGB'])"
      ],
      "metadata": {
        "colab": {
          "base_uri": "https://localhost:8080/"
        },
        "id": "Yb5Sg8gjHyF3",
        "outputId": "3082e783-7177-49cc-c660-cefbb64003d8"
      },
      "execution_count": null,
      "outputs": [
        {
          "output_type": "stream",
          "name": "stderr",
          "text": [
            "Predicting: 100%|██████████| 1/1 [00:00<00:00,  1.79it/s]\n"
          ]
        }
      ]
    },
    {
      "cell_type": "code",
      "source": [
        "performance(y_test, pred_stacking)"
      ],
      "metadata": {
        "colab": {
          "base_uri": "https://localhost:8080/"
        },
        "id": "ve_S0HszEGyv",
        "outputId": "5ca5290a-ed52-4fd8-acbb-ebe24a6b895d"
      },
      "execution_count": null,
      "outputs": [
        {
          "output_type": "stream",
          "name": "stderr",
          "text": [
            "Finding the best threshold: 100%|██████████| 500/500 [00:10<00:00, 49.39it/s]"
          ]
        },
        {
          "output_type": "stream",
          "name": "stdout",
          "text": [
            "\n",
            "AUC: 0.8199023242145893\n",
            "Recall: 0.7832188713048671\n"
          ]
        },
        {
          "output_type": "stream",
          "name": "stderr",
          "text": [
            "\n"
          ]
        }
      ]
    },
    {
      "cell_type": "markdown",
      "metadata": {
        "id": "LrRZTlmh2Z9T"
      },
      "source": [
        "### Stepwise regression"
      ]
    },
    {
      "cell_type": "code",
      "metadata": {
        "id": "uJFb86pd2dn8"
      },
      "source": [
        "# stepwise selection\n",
        "def get_auc(predictors, response, data):\n",
        "    x = data[predictors]\n",
        "    y = response\n",
        "    # use lightGBM model to build the model\n",
        "    model = lgb.LGBMClassifier(\n",
        "            class_weight=\"balanced\",\n",
        "            boosting_type='gbdt',\n",
        "            n_estimators=100)\n",
        "    model.fit(\n",
        "        x, \n",
        "        y,\n",
        "        verbose = 50, \n",
        "        eval_metric = \"auc\")\n",
        "    y_pred = model.predict_proba(X_test[predictors])[:,1]\n",
        "    result_auc = roc_auc_score(y_test, y_pred)\n",
        "    return result_auc\n",
        "\n",
        "def each_step(response, predictors, candidates, data):\n",
        "    best_auc = -1\n",
        "    best_candidate = None\n",
        "    for i in candidates:\n",
        "        auc_i = get_auc(predictors + [i], response, data)\n",
        "        if(auc_i > best_auc):\n",
        "            best_auc = auc_i\n",
        "            best_candidate = i\n",
        "    return best_candidate, best_auc\n",
        "\n",
        "def step_wise(response, features, data):\n",
        "    current_predictors = []\n",
        "    best_auc = -1\n",
        "    candidates = features.copy()\n",
        "    for i in features:\n",
        "        best = each_step(response, current_predictors, candidates, data)\n",
        "        print(best[0])\n",
        "        print(best[1])\n",
        "        if(best[1] <= best_auc):\n",
        "            return current_predictors, best_auc\n",
        "        best_auc = best[1]\n",
        "        current_predictors = current_predictors + [best[0]]\n",
        "        candidates.remove(best[0])\n",
        "    return current_predictors, best_auc\n"
      ],
      "execution_count": null,
      "outputs": []
    },
    {
      "cell_type": "code",
      "metadata": {
        "id": "lzDXCbfL5ZYc"
      },
      "source": [
        "step_wise(df_train[target], features, df_train)"
      ],
      "execution_count": null,
      "outputs": []
    },
    {
      "cell_type": "code",
      "source": [
        "\n",
        "selected_predictors = ['print_position',\n",
        "  'total_orders_item_30days',\n",
        "  'total_asp_item_domain_30days',\n",
        "  'offset',\n",
        "  'price',\n",
        "  'total_asp_item_sel_30days',\n",
        "  'avg_qty_orders_item_domain_30days',\n",
        "  'cart_eligible',\n",
        "  'total_visits_domain',\n",
        "  'discount',\n",
        "  'health',\n",
        "  'poor_quality_picture',\n",
        "  'qty_items_sel',\n",
        "  'free_shipping',\n",
        "  'under_infractions']"
      ],
      "metadata": {
        "id": "ni1a2XzjoCve"
      },
      "execution_count": null,
      "outputs": []
    }
  ]
}